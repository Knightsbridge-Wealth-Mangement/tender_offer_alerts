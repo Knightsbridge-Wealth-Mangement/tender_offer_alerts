{
  "nbformat": 4,
  "nbformat_minor": 0,
  "metadata": {
    "colab": {
      "provenance": [],
      "authorship_tag": "ABX9TyMadXK+2RDPsDPn6xMcLU1Q"
    },
    "kernelspec": {
      "name": "python3",
      "display_name": "Python 3"
    },
    "language_info": {
      "name": "python"
    }
  },
  "cells": [
    {
      "cell_type": "code",
      "execution_count": null,
      "metadata": {
        "id": "PZerFJn3M1_e"
      },
      "outputs": [],
      "source": [
        "!pip install edgartools &> /dev/null\n",
        "\n",
        "import pandas as pd\n",
        "import os\n",
        "from datetime import timedelta, date\n",
        "import requests\n",
        "import smtplib\n",
        "from email.mime.text import MIMEText\n",
        "from edgar import *"
      ]
    },
    {
      "cell_type": "code",
      "source": [
        "def get_tenders(my_identity):\n",
        "  '''function to retrieve SEC filings related to tender offers from year to date'''\n",
        "  try:\n",
        "    # set user agent for SEC EDGAR API calls\n",
        "    set_identity(my_identity)\n",
        "\n",
        "    # retrieve filings (can specify a year; must include quarter if current year)\n",
        "    filings = get_filings()\n",
        "\n",
        "    # filter for tender offer related forms (including ammendments)\n",
        "    tenders = filings.filter(form=['SC TO-I', 'SC TO-C', 'SC 13E-3', 'SC 13E-4'], amendments=True)\n",
        "\n",
        "    # return results as pandas dataframe\n",
        "    return tenders.to_pandas()\n",
        "\n",
        "  except Exception as e:\n",
        "    # return an empty dataframe on error\n",
        "    print(f'An error occurred in get_tender_offers: {e}')\n",
        "    return pd.DataFrame()\n",
        "\n",
        "def get_yesterday_tenders(my_identity):\n",
        "  '''function to retrieve SEC filings related to tender offers from yesterday'''\n",
        "  # calculate yesterday's date\n",
        "  yesterday = date.today() - timedelta(days=1)\n",
        "\n",
        "  # filter for tender offer forms filed yesterday and return\n",
        "  tenders_df = get_tenders(my_identity)\n",
        "  new_to = tenders_df[tenders_df['filing_date']==yesterday]\n",
        "  return new_to\n",
        "\n",
        "def send_teams_message(webhook_url, dataframe):\n",
        "    '''function to send dataframe to Microsoft teams channel'''\n",
        "    # Convert the DataFrame to HTML table\n",
        "    html_table = dataframe.to_html(index=False)\n",
        "\n",
        "    # Prepare the Teams message payload\n",
        "    message = {\n",
        "        'title': 'New Tender Offer Filings from Yesterday',\n",
        "        'text': f'Here are the tender offers found:\\n{html_table}'\n",
        "    }\n",
        "\n",
        "    # Send the message to Teams via the Webhook\n",
        "    headers = {'Content-Type': 'application/json'}\n",
        "    response = requests.post(webhook_url, json=message, headers=headers)\n",
        "\n",
        "    # Check the response\n",
        "    if response.status_code == 200:\n",
        "        print('Message sent successfully to Microsoft Teams!')\n",
        "    else:\n",
        "        print(f'Failed to send message. Status code: {response.status_code}, Response: {response.text}')"
      ],
      "metadata": {
        "id": "WFBxyOFfNAJE"
      },
      "execution_count": null,
      "outputs": []
    },
    {
      "cell_type": "code",
      "source": [
        "# define variables\n",
        "my_identity = 'John Doe johndoe@hotmail.com'\n",
        "teams_webhook_url = 'yourteamswebhook'\n",
        "\n",
        "# retrieve tender offer filings from yesterday\n",
        "yesterday_tenders = get_yesterday_tenders(my_identity)\n",
        "\n",
        "# send dataframe to Teams\n",
        "if not yesterday_tenders.empty:\n",
        "    print('New tender offer filings found. Attempting to send email...')\n",
        "    send_teams_message(teams_webhook_url, yesterday_tenders)\n",
        "else:\n",
        "    print(\"No new tender offer filings found. No message sent.\")"
      ],
      "metadata": {
        "id": "M1yp4BqmNxUF"
      },
      "execution_count": null,
      "outputs": []
    }
  ]
}
